{
 "cells": [
  {
   "cell_type": "code",
   "execution_count": 1,
   "id": "1b4b9620",
   "metadata": {},
   "outputs": [
    {
     "name": "stdout",
     "output_type": "stream",
     "text": [
      "<class 'pandas.core.frame.DataFrame'>\n",
      "RangeIndex: 39717 entries, 0 to 39716\n",
      "Columns: 111 entries, id to total_il_high_credit_limit\n",
      "dtypes: float64(74), int64(13), object(24)\n",
      "memory usage: 33.6+ MB\n"
     ]
    },
    {
     "name": "stderr",
     "output_type": "stream",
     "text": [
      "/var/folders/hg/lzg8fpln4h3bwk2319shcvcw0000gn/T/ipykernel_76779/1241628849.py:19: DtypeWarning: Columns (47) have mixed types. Specify dtype option on import or set low_memory=False.\n",
      "  input_file=pd.read_csv('/Users/sararamesh/Desktop/upGard/Lending Club/loan.csv',sep =\",\")\n"
     ]
    }
   ],
   "source": [
    "### Lending Case study\n",
    "\n",
    "\n",
    "#Importing the necessary modules\n",
    "import numpy as np\n",
    "import pandas as pd\n",
    "import matplotlib.pyplot as plt\n",
    "import seaborn as sns\n",
    "\n",
    "#supress scientific notation of values\n",
    "##pd.options.display.float_format = '{:.2f}'.format\n",
    "\n",
    "#increasing max number of columns and rows  displayed with pandas.\n",
    "##pd.set_option('display.max_columns', 150)\n",
    "##pd.set_option('display.max_rows', 100)\n",
    "\n",
    "### Data sourcing\n",
    "\n",
    "input_file=pd.read_csv('/Users/sararamesh/Desktop/upGard/Lending Club/loan.csv',sep =\",\")\n",
    "\n",
    "input_file.info()"
   ]
  },
  {
   "cell_type": "code",
   "execution_count": 2,
   "id": "6e431119",
   "metadata": {},
   "outputs": [
    {
     "data": {
      "text/html": [
       "<div>\n",
       "<style scoped>\n",
       "    .dataframe tbody tr th:only-of-type {\n",
       "        vertical-align: middle;\n",
       "    }\n",
       "\n",
       "    .dataframe tbody tr th {\n",
       "        vertical-align: top;\n",
       "    }\n",
       "\n",
       "    .dataframe thead th {\n",
       "        text-align: right;\n",
       "    }\n",
       "</style>\n",
       "<table border=\"1\" class=\"dataframe\">\n",
       "  <thead>\n",
       "    <tr style=\"text-align: right;\">\n",
       "      <th></th>\n",
       "      <th>id</th>\n",
       "      <th>member_id</th>\n",
       "      <th>loan_amnt</th>\n",
       "      <th>funded_amnt</th>\n",
       "      <th>funded_amnt_inv</th>\n",
       "      <th>term</th>\n",
       "      <th>int_rate</th>\n",
       "      <th>installment</th>\n",
       "      <th>grade</th>\n",
       "      <th>sub_grade</th>\n",
       "      <th>...</th>\n",
       "      <th>num_tl_90g_dpd_24m</th>\n",
       "      <th>num_tl_op_past_12m</th>\n",
       "      <th>pct_tl_nvr_dlq</th>\n",
       "      <th>percent_bc_gt_75</th>\n",
       "      <th>pub_rec_bankruptcies</th>\n",
       "      <th>tax_liens</th>\n",
       "      <th>tot_hi_cred_lim</th>\n",
       "      <th>total_bal_ex_mort</th>\n",
       "      <th>total_bc_limit</th>\n",
       "      <th>total_il_high_credit_limit</th>\n",
       "    </tr>\n",
       "  </thead>\n",
       "  <tbody>\n",
       "    <tr>\n",
       "      <th>0</th>\n",
       "      <td>1077501</td>\n",
       "      <td>1296599</td>\n",
       "      <td>5000</td>\n",
       "      <td>5000</td>\n",
       "      <td>4975.0</td>\n",
       "      <td>36 months</td>\n",
       "      <td>10.65%</td>\n",
       "      <td>162.87</td>\n",
       "      <td>B</td>\n",
       "      <td>B2</td>\n",
       "      <td>...</td>\n",
       "      <td>NaN</td>\n",
       "      <td>NaN</td>\n",
       "      <td>NaN</td>\n",
       "      <td>NaN</td>\n",
       "      <td>0.0</td>\n",
       "      <td>0.0</td>\n",
       "      <td>NaN</td>\n",
       "      <td>NaN</td>\n",
       "      <td>NaN</td>\n",
       "      <td>NaN</td>\n",
       "    </tr>\n",
       "    <tr>\n",
       "      <th>1</th>\n",
       "      <td>1077430</td>\n",
       "      <td>1314167</td>\n",
       "      <td>2500</td>\n",
       "      <td>2500</td>\n",
       "      <td>2500.0</td>\n",
       "      <td>60 months</td>\n",
       "      <td>15.27%</td>\n",
       "      <td>59.83</td>\n",
       "      <td>C</td>\n",
       "      <td>C4</td>\n",
       "      <td>...</td>\n",
       "      <td>NaN</td>\n",
       "      <td>NaN</td>\n",
       "      <td>NaN</td>\n",
       "      <td>NaN</td>\n",
       "      <td>0.0</td>\n",
       "      <td>0.0</td>\n",
       "      <td>NaN</td>\n",
       "      <td>NaN</td>\n",
       "      <td>NaN</td>\n",
       "      <td>NaN</td>\n",
       "    </tr>\n",
       "    <tr>\n",
       "      <th>2</th>\n",
       "      <td>1077175</td>\n",
       "      <td>1313524</td>\n",
       "      <td>2400</td>\n",
       "      <td>2400</td>\n",
       "      <td>2400.0</td>\n",
       "      <td>36 months</td>\n",
       "      <td>15.96%</td>\n",
       "      <td>84.33</td>\n",
       "      <td>C</td>\n",
       "      <td>C5</td>\n",
       "      <td>...</td>\n",
       "      <td>NaN</td>\n",
       "      <td>NaN</td>\n",
       "      <td>NaN</td>\n",
       "      <td>NaN</td>\n",
       "      <td>0.0</td>\n",
       "      <td>0.0</td>\n",
       "      <td>NaN</td>\n",
       "      <td>NaN</td>\n",
       "      <td>NaN</td>\n",
       "      <td>NaN</td>\n",
       "    </tr>\n",
       "    <tr>\n",
       "      <th>3</th>\n",
       "      <td>1076863</td>\n",
       "      <td>1277178</td>\n",
       "      <td>10000</td>\n",
       "      <td>10000</td>\n",
       "      <td>10000.0</td>\n",
       "      <td>36 months</td>\n",
       "      <td>13.49%</td>\n",
       "      <td>339.31</td>\n",
       "      <td>C</td>\n",
       "      <td>C1</td>\n",
       "      <td>...</td>\n",
       "      <td>NaN</td>\n",
       "      <td>NaN</td>\n",
       "      <td>NaN</td>\n",
       "      <td>NaN</td>\n",
       "      <td>0.0</td>\n",
       "      <td>0.0</td>\n",
       "      <td>NaN</td>\n",
       "      <td>NaN</td>\n",
       "      <td>NaN</td>\n",
       "      <td>NaN</td>\n",
       "    </tr>\n",
       "    <tr>\n",
       "      <th>4</th>\n",
       "      <td>1075358</td>\n",
       "      <td>1311748</td>\n",
       "      <td>3000</td>\n",
       "      <td>3000</td>\n",
       "      <td>3000.0</td>\n",
       "      <td>60 months</td>\n",
       "      <td>12.69%</td>\n",
       "      <td>67.79</td>\n",
       "      <td>B</td>\n",
       "      <td>B5</td>\n",
       "      <td>...</td>\n",
       "      <td>NaN</td>\n",
       "      <td>NaN</td>\n",
       "      <td>NaN</td>\n",
       "      <td>NaN</td>\n",
       "      <td>0.0</td>\n",
       "      <td>0.0</td>\n",
       "      <td>NaN</td>\n",
       "      <td>NaN</td>\n",
       "      <td>NaN</td>\n",
       "      <td>NaN</td>\n",
       "    </tr>\n",
       "  </tbody>\n",
       "</table>\n",
       "<p>5 rows × 111 columns</p>\n",
       "</div>"
      ],
      "text/plain": [
       "        id  member_id  loan_amnt  funded_amnt  funded_amnt_inv        term  \\\n",
       "0  1077501    1296599       5000         5000           4975.0   36 months   \n",
       "1  1077430    1314167       2500         2500           2500.0   60 months   \n",
       "2  1077175    1313524       2400         2400           2400.0   36 months   \n",
       "3  1076863    1277178      10000        10000          10000.0   36 months   \n",
       "4  1075358    1311748       3000         3000           3000.0   60 months   \n",
       "\n",
       "  int_rate  installment grade sub_grade  ... num_tl_90g_dpd_24m  \\\n",
       "0   10.65%       162.87     B        B2  ...                NaN   \n",
       "1   15.27%        59.83     C        C4  ...                NaN   \n",
       "2   15.96%        84.33     C        C5  ...                NaN   \n",
       "3   13.49%       339.31     C        C1  ...                NaN   \n",
       "4   12.69%        67.79     B        B5  ...                NaN   \n",
       "\n",
       "  num_tl_op_past_12m pct_tl_nvr_dlq  percent_bc_gt_75 pub_rec_bankruptcies  \\\n",
       "0                NaN            NaN               NaN                  0.0   \n",
       "1                NaN            NaN               NaN                  0.0   \n",
       "2                NaN            NaN               NaN                  0.0   \n",
       "3                NaN            NaN               NaN                  0.0   \n",
       "4                NaN            NaN               NaN                  0.0   \n",
       "\n",
       "  tax_liens tot_hi_cred_lim total_bal_ex_mort total_bc_limit  \\\n",
       "0       0.0             NaN               NaN            NaN   \n",
       "1       0.0             NaN               NaN            NaN   \n",
       "2       0.0             NaN               NaN            NaN   \n",
       "3       0.0             NaN               NaN            NaN   \n",
       "4       0.0             NaN               NaN            NaN   \n",
       "\n",
       "  total_il_high_credit_limit  \n",
       "0                        NaN  \n",
       "1                        NaN  \n",
       "2                        NaN  \n",
       "3                        NaN  \n",
       "4                        NaN  \n",
       "\n",
       "[5 rows x 111 columns]"
      ]
     },
     "execution_count": 2,
     "metadata": {},
     "output_type": "execute_result"
    }
   ],
   "source": [
    "### Data Understanding\n",
    "\n",
    "input_file.head()"
   ]
  },
  {
   "cell_type": "code",
   "execution_count": 3,
   "id": "7480e446",
   "metadata": {},
   "outputs": [
    {
     "data": {
      "text/plain": [
       "Index(['id', 'member_id', 'loan_amnt', 'funded_amnt', 'funded_amnt_inv',\n",
       "       'term', 'int_rate', 'installment', 'grade', 'sub_grade',\n",
       "       ...\n",
       "       'num_tl_90g_dpd_24m', 'num_tl_op_past_12m', 'pct_tl_nvr_dlq',\n",
       "       'percent_bc_gt_75', 'pub_rec_bankruptcies', 'tax_liens',\n",
       "       'tot_hi_cred_lim', 'total_bal_ex_mort', 'total_bc_limit',\n",
       "       'total_il_high_credit_limit'],\n",
       "      dtype='object', length=111)"
      ]
     },
     "execution_count": 3,
     "metadata": {},
     "output_type": "execute_result"
    }
   ],
   "source": [
    "input_file.columns"
   ]
  },
  {
   "cell_type": "markdown",
   "id": "bb5d93a4",
   "metadata": {},
   "source": [
    "## DATA CLEANING"
   ]
  },
  {
   "cell_type": "code",
   "execution_count": 4,
   "id": "56269ff1",
   "metadata": {},
   "outputs": [
    {
     "data": {
      "text/plain": [
       "emp_title                       6.19\n",
       "emp_length                      2.71\n",
       "desc                           32.58\n",
       "title                           0.03\n",
       "mths_since_last_delinq         64.66\n",
       "                               ...  \n",
       "tax_liens                       0.10\n",
       "tot_hi_cred_lim               100.00\n",
       "total_bal_ex_mort             100.00\n",
       "total_bc_limit                100.00\n",
       "total_il_high_credit_limit    100.00\n",
       "Length: 68, dtype: float64"
      ]
     },
     "execution_count": 4,
     "metadata": {},
     "output_type": "execute_result"
    }
   ],
   "source": [
    "#Finding percentage of null or missing values\n",
    "null_perc = round(100*(input_file.isnull().sum()/len(input_file.index)), 2)\n",
    "#Printing columns which have more than 0% missing values\n",
    "null_perc[ null_perc > 0 ]"
   ]
  },
  {
   "cell_type": "code",
   "execution_count": 6,
   "id": "897addb1",
   "metadata": {},
   "outputs": [],
   "source": [
    "### Removing columns which has more than 30% null values in it.\n",
    "input_file.drop(null_perc[ null_perc > 30 ].index, axis=1, inplace=True)"
   ]
  },
  {
   "cell_type": "code",
   "execution_count": 7,
   "id": "d09b13a8",
   "metadata": {},
   "outputs": [
    {
     "data": {
      "text/plain": [
       "tax_liens                     1\n",
       "delinq_amnt                   1\n",
       "chargeoff_within_12_mths      1\n",
       "acc_now_delinq                1\n",
       "application_type              1\n",
       "policy_code                   1\n",
       "collections_12_mths_ex_med    1\n",
       "initial_list_status           1\n",
       "pymnt_plan                    1\n",
       "term                          2\n",
       "pub_rec_bankruptcies          3\n",
       "verification_status           3\n",
       "loan_status                   3\n",
       "pub_rec                       5\n",
       "home_ownership                5\n",
       "dtype: int64"
      ]
     },
     "execution_count": 7,
     "metadata": {},
     "output_type": "execute_result"
    }
   ],
   "source": [
    "#Finding number of unique values in each column\n",
    "input_file.nunique().sort_values().head(15)"
   ]
  },
  {
   "cell_type": "markdown",
   "id": "bf509938",
   "metadata": {},
   "source": [
    "tax_liens', 'delinq_amnt', 'chargeoff_within_12_mths', 'acc_now_delinq', 'application_type', 'policy_code', 'collections_12_mths_ex_med', 'initial_list_status', 'pymnt_plan' columns have only one unique value in all the rows, which will not give any usefull info for us. so, lets remove them."
   ]
  },
  {
   "cell_type": "code",
   "execution_count": 8,
   "id": "56e2cc5f",
   "metadata": {},
   "outputs": [],
   "source": [
    "#Dropping Columns with only one values.\n",
    "input_file.drop(['tax_liens', 'delinq_amnt', 'chargeoff_within_12_mths', 'acc_now_delinq', 'application_type', 'policy_code', 'collections_12_mths_ex_med', 'initial_list_status', 'pymnt_plan'], axis=1, inplace=True)"
   ]
  },
  {
   "cell_type": "code",
   "execution_count": 9,
   "id": "332bdaa0",
   "metadata": {},
   "outputs": [
    {
     "data": {
      "text/plain": [
       "id                 39717\n",
       "url                39717\n",
       "member_id          39717\n",
       "total_pymnt        37850\n",
       "total_pymnt_inv    37518\n",
       "total_rec_int      35148\n",
       "last_pymnt_amnt    34930\n",
       "emp_title          28820\n",
       "revol_bal          21711\n",
       "title              19615\n",
       "installment        15383\n",
       "funded_amnt_inv     8205\n",
       "total_rec_prncp     7976\n",
       "annual_inc          5318\n",
       "recoveries          4040\n",
       "dtype: int64"
      ]
     },
     "execution_count": 9,
     "metadata": {},
     "output_type": "execute_result"
    }
   ],
   "source": [
    "#Finding number of unique values, printing high unique valued columns\n",
    "input_file.nunique().sort_values(ascending=False).head(15)"
   ]
  },
  {
   "cell_type": "code",
   "execution_count": 10,
   "id": "7cc5299d",
   "metadata": {},
   "outputs": [],
   "source": [
    "input_file.drop(['emp_title', 'title'], axis=1, inplace=True)"
   ]
  },
  {
   "cell_type": "code",
   "execution_count": 11,
   "id": "cd2b1566",
   "metadata": {},
   "outputs": [],
   "source": [
    "input_file.drop(['member_id', 'url'], axis=1, inplace=True)"
   ]
  },
  {
   "cell_type": "code",
   "execution_count": 12,
   "id": "5f1aea53",
   "metadata": {},
   "outputs": [],
   "source": [
    "input_file.drop(['total_rec_int', 'total_rec_prncp', 'total_rec_late_fee', 'last_credit_pull_d', 'recoveries', 'collection_recovery_fee', 'last_pymnt_d'], axis=1, inplace=True)\n",
    "input_file.drop(['out_prncp', 'out_prncp_inv'], axis=1, inplace=True)"
   ]
  },
  {
   "cell_type": "code",
   "execution_count": 13,
   "id": "ae6767fb",
   "metadata": {},
   "outputs": [
    {
     "data": {
      "text/plain": [
       "emp_length              2.71\n",
       "revol_util              0.13\n",
       "pub_rec_bankruptcies    1.75\n",
       "dtype: float64"
      ]
     },
     "execution_count": 13,
     "metadata": {},
     "output_type": "execute_result"
    }
   ],
   "source": [
    "#Finding percentage of null or missing values\n",
    "null_perc = round(100*(input_file.isnull().sum()/len(input_file.index)), 2)\n",
    "null_perc[ null_perc > 0 ]"
   ]
  },
  {
   "cell_type": "code",
   "execution_count": 14,
   "id": "c5323715",
   "metadata": {},
   "outputs": [
    {
     "data": {
      "text/plain": [
       "Series([], dtype: float64)"
      ]
     },
     "execution_count": 14,
     "metadata": {},
     "output_type": "execute_result"
    }
   ],
   "source": [
    "input_file.dropna(subset=['emp_length', 'revol_util', 'pub_rec_bankruptcies'], inplace=True)\n",
    "#Finding percentage of null or missing values\n",
    "null_perc = round(100*(input_file.isnull().sum()/len(input_file.index)), 2)\n",
    "null_perc[ null_perc > 0 ]"
   ]
  },
  {
   "cell_type": "markdown",
   "id": "d279d795",
   "metadata": {},
   "source": [
    "Loan Status Column has 3 distict values out of them we need only Fully Paid and Charged Off. So, we will remove the rows with Current values in loan status."
   ]
  },
  {
   "cell_type": "code",
   "execution_count": 15,
   "id": "aa047a94",
   "metadata": {},
   "outputs": [],
   "source": [
    "#Removing current loan status rows\n",
    "input_file = input_file[input_file.loan_status != 'Current']"
   ]
  },
  {
   "cell_type": "code",
   "execution_count": 17,
   "id": "54085c4f",
   "metadata": {},
   "outputs": [
    {
     "data": {
      "text/plain": [
       "array([' 36 months', ' 60 months'], dtype=object)"
      ]
     },
     "execution_count": 17,
     "metadata": {},
     "output_type": "execute_result"
    }
   ],
   "source": [
    "### Checking unique values for term column\n",
    "input_file.term.unique()"
   ]
  },
  {
   "cell_type": "code",
   "execution_count": 18,
   "id": "d47ba68d",
   "metadata": {},
   "outputs": [
    {
     "data": {
      "text/plain": [
       "array(['36 months', '60 months'], dtype=object)"
      ]
     },
     "execution_count": 18,
     "metadata": {},
     "output_type": "execute_result"
    }
   ],
   "source": [
    "#Stripping empty space in values in term\n",
    "input_file['term'] = input_file.term.str.strip()\n",
    "input_file.term.unique()"
   ]
  },
  {
   "cell_type": "code",
   "execution_count": 19,
   "id": "47a9b42e",
   "metadata": {},
   "outputs": [
    {
     "data": {
      "text/plain": [
       "(36800, 31)"
      ]
     },
     "execution_count": 19,
     "metadata": {},
     "output_type": "execute_result"
    }
   ],
   "source": [
    "input_file.shape"
   ]
  },
  {
   "cell_type": "code",
   "execution_count": 20,
   "id": "6fa853ac",
   "metadata": {},
   "outputs": [
    {
     "data": {
      "text/plain": [
       "id                        int64\n",
       "loan_amnt                 int64\n",
       "funded_amnt               int64\n",
       "funded_amnt_inv         float64\n",
       "term                     object\n",
       "int_rate                 object\n",
       "installment             float64\n",
       "grade                    object\n",
       "sub_grade                object\n",
       "emp_length               object\n",
       "home_ownership           object\n",
       "annual_inc              float64\n",
       "verification_status      object\n",
       "issue_d                  object\n",
       "loan_status              object\n",
       "purpose                  object\n",
       "zip_code                 object\n",
       "addr_state               object\n",
       "dti                     float64\n",
       "delinq_2yrs               int64\n",
       "earliest_cr_line         object\n",
       "inq_last_6mths            int64\n",
       "open_acc                  int64\n",
       "pub_rec                   int64\n",
       "revol_bal                 int64\n",
       "revol_util               object\n",
       "total_acc                 int64\n",
       "total_pymnt             float64\n",
       "total_pymnt_inv         float64\n",
       "last_pymnt_amnt         float64\n",
       "pub_rec_bankruptcies    float64\n",
       "dtype: object"
      ]
     },
     "execution_count": 20,
     "metadata": {},
     "output_type": "execute_result"
    }
   ],
   "source": [
    "input_file.dtypes"
   ]
  },
  {
   "cell_type": "markdown",
   "id": "431b6f36",
   "metadata": {},
   "source": [
    "int_rate and revol_util are having '%' symbol values and having data type of object. Need to remove % and convert data type from object to float."
   ]
  },
  {
   "cell_type": "code",
   "execution_count": 21,
   "id": "c2502b1c",
   "metadata": {},
   "outputs": [],
   "source": [
    "#stripping '%' value\n",
    "input_file['int_rate'] = input_file.int_rate.str.strip('%').astype(float)\n",
    "input_file['revol_util'] = input_file.revol_util.str.strip('%').astype(float)"
   ]
  },
  {
   "cell_type": "code",
   "execution_count": 22,
   "id": "621f31cd",
   "metadata": {},
   "outputs": [
    {
     "data": {
      "text/plain": [
       "id                        int64\n",
       "loan_amnt                 int64\n",
       "funded_amnt               int64\n",
       "funded_amnt_inv         float64\n",
       "term                     object\n",
       "int_rate                float64\n",
       "installment             float64\n",
       "grade                    object\n",
       "sub_grade                object\n",
       "emp_length               object\n",
       "home_ownership           object\n",
       "annual_inc              float64\n",
       "verification_status      object\n",
       "issue_d                  object\n",
       "loan_status              object\n",
       "purpose                  object\n",
       "zip_code                 object\n",
       "addr_state               object\n",
       "dti                     float64\n",
       "delinq_2yrs               int64\n",
       "earliest_cr_line         object\n",
       "inq_last_6mths            int64\n",
       "open_acc                  int64\n",
       "pub_rec                   int64\n",
       "revol_bal                 int64\n",
       "revol_util              float64\n",
       "total_acc                 int64\n",
       "total_pymnt             float64\n",
       "total_pymnt_inv         float64\n",
       "last_pymnt_amnt         float64\n",
       "pub_rec_bankruptcies    float64\n",
       "dtype: object"
      ]
     },
     "execution_count": 22,
     "metadata": {},
     "output_type": "execute_result"
    }
   ],
   "source": [
    "input_file.dtypes"
   ]
  },
  {
   "cell_type": "markdown",
   "id": "d27a6dad",
   "metadata": {},
   "source": [
    "Creating Approved Loan amount ratio which is a ratio of Funded Amount by investor to Requested Loan amount."
   ]
  },
  {
   "cell_type": "code",
   "execution_count": 23,
   "id": "2f13ef67",
   "metadata": {},
   "outputs": [],
   "source": [
    "input_file['approved_loan_amnt_ratio'] = round(input_file.funded_amnt_inv*100/input_file.loan_amnt,2)"
   ]
  },
  {
   "cell_type": "markdown",
   "id": "df0728bf",
   "metadata": {},
   "source": [
    "#### Univariate Analysis"
   ]
  },
  {
   "cell_type": "code",
   "execution_count": 25,
   "id": "0c7901b2",
   "metadata": {},
   "outputs": [
    {
     "data": {
      "text/plain": [
       "count    36800.000000\n",
       "mean     11149.540761\n",
       "std       7369.855703\n",
       "min        500.000000\n",
       "5%        2400.000000\n",
       "10%       3200.000000\n",
       "25%       5500.000000\n",
       "50%      10000.000000\n",
       "75%      15000.000000\n",
       "90%      22000.000000\n",
       "95%      25000.000000\n",
       "99%      35000.000000\n",
       "max      35000.000000\n",
       "Name: loan_amnt, dtype: float64"
      ]
     },
     "execution_count": 25,
     "metadata": {},
     "output_type": "execute_result"
    }
   ],
   "source": [
    "#Stats of laon amount\n",
    "input_file.loan_amnt.describe(percentiles=[0.05,0.1,0.25,0.5,0.75,0.9,0.95,0.99])\n"
   ]
  },
  {
   "cell_type": "code",
   "execution_count": 26,
   "id": "24c468da",
   "metadata": {},
   "outputs": [
    {
     "name": "stderr",
     "output_type": "stream",
     "text": [
      "/Users/sararamesh/opt/anaconda3/lib/python3.9/site-packages/seaborn/_decorators.py:36: FutureWarning: Pass the following variable as a keyword arg: x. From version 0.12, the only valid positional argument will be `data`, and passing other arguments without an explicit keyword will result in an error or misinterpretation.\n",
      "  warnings.warn(\n"
     ]
    },
    {
     "data": {
      "text/plain": [
       "<AxesSubplot:xlabel='loan_amnt'>"
      ]
     },
     "execution_count": 26,
     "metadata": {},
     "output_type": "execute_result"
    },
    {
     "data": {
      "image/png": "[encoded data removed]",
      "text/plain": [
       "<Figure size 500x200 with 1 Axes>"
      ]
     },
     "metadata": {},
     "output_type": "display_data"
    }
   ],
   "source": [
    "fig = plt.figure(figsize =(5, 2))\n",
    "sns.boxplot(input_file.loan_amnt)"
   ]
  },
  {
   "cell_type": "code",
   "execution_count": 27,
   "id": "1171f352",
   "metadata": {},
   "outputs": [
    {
     "name": "stderr",
     "output_type": "stream",
     "text": [
      "/Users/sararamesh/opt/anaconda3/lib/python3.9/site-packages/seaborn/distributions.py:2619: FutureWarning: `distplot` is a deprecated function and will be removed in a future version. Please adapt your code to use either `displot` (a figure-level function with similar flexibility) or `histplot` (an axes-level function for histograms).\n",
      "  warnings.warn(msg, FutureWarning)\n",
      "/Users/sararamesh/opt/anaconda3/lib/python3.9/site-packages/seaborn/distributions.py:2103: FutureWarning: The `axis` variable is no longer used and will be removed. Instead, assign variables directly to `x` or `y`.\n",
      "  warnings.warn(msg, FutureWarning)\n"
     ]
    },
    {
     "data": {
      "text/plain": [
       "<AxesSubplot:xlabel='funded_amnt_inv', ylabel='Density'>"
      ]
     },
     "execution_count": 27,
     "metadata": {},
     "output_type": "execute_result"
    },
    {
     "data": {
      "image/png": "[encoded data removed]",
      "text/plain": [
       "<Figure size 700x300 with 1 Axes>"
      ]
     },
     "metadata": {},
     "output_type": "display_data"
    }
   ],
   "source": [
    "plt.figure(figsize=(7,3),facecolor='y')\n",
    "\n",
    "sns.distplot(input_file.funded_amnt_inv, rug=True)"
   ]
  },
  {
   "cell_type": "code",
   "execution_count": 28,
   "id": "0fa14f29",
   "metadata": {},
   "outputs": [
    {
     "data": {
      "text/plain": [
       "Text(0, 0.5, 'Loan Application Count')"
      ]
     },
     "execution_count": 28,
     "metadata": {},
     "output_type": "execute_result"
    },
    {
     "data": {
      "image/png": "[encoded data removed]",
      "text/plain": [
       "<Figure size 500x200 with 1 Axes>"
      ]
     },
     "metadata": {},
     "output_type": "display_data"
    }
   ],
   "source": [
    "# Univariate Analysis - Loan Status\n",
    "\n",
    "plt.figure(figsize=(5,2))\n",
    "ax = sns.countplot(x=\"loan_status\",data=input_file,palette='mako')\n",
    "ax.set_title('Loan Status',fontsize=10,color='b')\n",
    "ax.set_xlabel('Loan Status',fontsize=10,color = 'b')\n",
    "ax.set_ylabel('Loan Application Count',fontsize=14,color = 'b')   "
   ]
  },
  {
   "cell_type": "code",
   "execution_count": 29,
   "id": "e2164488",
   "metadata": {},
   "outputs": [
    {
     "data": {
      "image/png": "[encoded data removed]",
      "text/plain": [
       "<Figure size 700x300 with 1 Axes>"
      ]
     },
     "metadata": {},
     "output_type": "display_data"
    }
   ],
   "source": [
    "# Univariate Analysis - Home Ownership\n",
    "\n",
    "plt.figure(figsize=(7,3))\n",
    "ax = sns.countplot(x=\"home_ownership\",data=input_file,hue='loan_status',palette='GnBu_d')\n",
    "ax.legend(bbox_to_anchor=(1, 1))\n",
    "ax.set_title('Home Ownership',fontsize=14,color='b')\n",
    "ax.set_xlabel('Home Ownership',fontsize=14,color = 'b')\n",
    "ax.set_ylabel('Loan Application Count',fontsize=14,color = 'b')      \n",
    "plt.show()"
   ]
  },
  {
   "cell_type": "code",
   "execution_count": null,
   "id": "05120c3a",
   "metadata": {},
   "outputs": [],
   "source": []
  }
 ],
 "metadata": {
  "kernelspec": {
   "display_name": "Python 3 (ipykernel)",
   "language": "python",
   "name": "python3"
  },
  "language_info": {
   "codemirror_mode": {
    "name": "ipython",
    "version": 3
   },
   "file_extension": ".py",
   "mimetype": "text/x-python",
   "name": "python",
   "nbconvert_exporter": "python",
   "pygments_lexer": "ipython3",
   "version": "3.9.13"
  }
 },
 "nbformat": 4,
 "nbformat_minor": 5
}
